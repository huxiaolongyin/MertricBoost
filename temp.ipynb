{
 "cells": [
  {
   "cell_type": "code",
   "execution_count": 6,
   "metadata": {},
   "outputs": [
    {
     "name": "stdout",
     "output_type": "stream",
     "text": [
      "<coroutine object get_database_list at 0x0000026B53DA8A50>\n"
     ]
    },
    {
     "name": "stderr",
     "output_type": "stream",
     "text": [
      "C:\\Users\\Administrator\\AppData\\Local\\Temp\\ipykernel_4288\\940934386.py:16: RuntimeWarning: coroutine 'get_database_list' was never awaited\n",
      "  print(get_database_list())\n",
      "RuntimeWarning: Enable tracemalloc to get the object allocation traceback\n"
     ]
    }
   ],
   "source": [
    "from tortoise.expressions import Q\n",
    "from app.controllers import database_controller\n",
    "\n",
    "q = Q()\n",
    "q &= Q(status__contains=1)\n",
    "async def get_database_list():\n",
    "    total, database_objs = await database_controller.list(\n",
    "        page=1,\n",
    "        page_size=10,\n",
    "        search=q,\n",
    "        order=[\"id\"],\n",
    "        prefetch=[\"create_by_id\"],\n",
    "    )\n",
    "    print(database_objs)\n",
    "    return database_objs\n",
    "get_database_list()"
   ]
  }
 ],
 "metadata": {
  "kernelspec": {
   "display_name": ".venv",
   "language": "python",
   "name": "python3"
  },
  "language_info": {
   "codemirror_mode": {
    "name": "ipython",
    "version": 3
   },
   "file_extension": ".py",
   "mimetype": "text/x-python",
   "name": "python",
   "nbconvert_exporter": "python",
   "pygments_lexer": "ipython3",
   "version": "3.10.11"
  }
 },
 "nbformat": 4,
 "nbformat_minor": 2
}
